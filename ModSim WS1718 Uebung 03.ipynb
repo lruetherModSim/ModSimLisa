{
 "cells": [
  {
   "cell_type": "markdown",
   "metadata": {},
   "source": [
    "## Simulation und Modellierung WS 17/18 Uebung 03 : \n",
    "### Abgabe zum 04.11.2016"
   ]
  },
  {
   "cell_type": "markdown",
   "metadata": {},
   "source": [
    "### <u>Aufgabe 1</u> Erste Schritte mit Git"
   ]
  },
  {
   "cell_type": "markdown",
   "metadata": {},
   "source": [
    "Ziel dieser Aufgabe ist, die Lösung dieses kompletten Aufgabenblattes bei einem Git-Filehost (github) online zu stellen. An der hochgeladenen Version sollen Sie dann noch mindestens eine Änderung vornehmen.\n",
    "\n",
    "Nun der Reihenfolge nach: \n",
    "* Erstellen Sie einen Account bei Github mit einem `username`\n",
    "\n",
    "  https://github.com/\n",
    " \n",
    "  Erstellen Sie dort per Mausklick ein neues Repository, z.B. `my_repo`. (unter `new repository`)\n",
    "\n",
    "* Installieren Sie git auf Ihrem Arbeitsrechner:\n",
    "\n",
    "  #### Linux:\n",
    "  \n",
    "  `yum install git`\n",
    "  \n",
    "  `apt-get install git`\n",
    "  \n",
    "  `zypper in git`\n",
    "\n",
    "  #### Mac:\n",
    "  \n",
    "  `brew install git`\n",
    "  \n",
    "  https://git-scm.com/download/mac\n",
    "  \n",
    "  #### Windows:\n",
    "  \n",
    "  http://git-for-windows.github.io//\n",
    "\n",
    "  Setzen Sie dann eventuell Namen und Adresse.\n",
    "  \n",
    "  `git config --global user.name \"Your Name\"`\n",
    "  \n",
    "  `git config --global user.email you@example.com`\n",
    "\n",
    "\n",
    "* Initialisieren Sie git in einem neuen Ordner. Fügen Sie `my_repo.git` als origin hinzu. Speichern Sie dieses notebook im neuen Ordner. Führen Sie `git add .`, `git commit -m \"  \"` und `git push origin master` aus. Das alles geht im Terminal folgendermaßen:\n",
    "\n",
    "  ```bash\n",
    "      mkdir neuer_ordner\n",
    "      cd neuer_ordner\n",
    "      git init\n",
    "      git remote add origin https://username@bitbucket.org/username/my_repo.git\n",
    "      cp /path/to/notebook/my_notebook.ipynb my_notebook.ipynb\n",
    "      git add .\n",
    "      git commit -m \"Dieses notebook ist die Hausaufgabe Blatt 8, zunaechst unausgefuellt.\"\n",
    "      git push origin master  \n",
    "  ```\n",
    "  \n",
    "  Sehen Sie nach, ob Ihr notebook online ist.\n",
    "\n",
    "* Spielen Sie mit `git status`, `git log`, `git branch -av` .. herum und klicken Sie im Webfilehost herum, bis Sie sich ein wenig auskennen. Schreiben Sie Fragen für die Übung auf.\n",
    "\n",
    "* Nehmen Sie nun lokal auf Ihrem Rechner Änderungen am notebook vor, zum Beispiel indem Sie die Hausaufgaben lösen. Ändern Sie dies wie oben online: `git add .`, `git commit -m \"  \"`, `git push origin master`. Achten Sie auf sinnvolle commit-Kommentare.\n",
    "  \n",
    "  ```bash\n",
    "      git add .\n",
    "      git commit -m \"Aufg. 2 geloest, weitere Beispiele durchgerechnet.\"\n",
    "      git push origin master  \n",
    "  ```\n",
    "\n",
    "Senden Sie den https-Repository-Pfad an  cgong(at)uni-potsdam.de ."
   ]
  },
  {
   "cell_type": "markdown",
   "metadata": {},
   "source": [
    "### <u>Aufgabe 2</u> Darstellbarkeit und Vergleiche von Gleitkommazahlen"
   ]
  },
  {
   "cell_type": "markdown",
   "metadata": {},
   "source": [
    "Wieviele Zahlen $x$ mit $3\\le x < 4$ sind als `float64` Gleitkommazahlen darstellbar?"
   ]
  },
  {
   "cell_type": "code",
   "execution_count": 1,
   "metadata": {},
   "outputs": [
    {
     "data": {
      "text/plain": [
       "2251799813685248"
      ]
     },
     "execution_count": 1,
     "metadata": {},
     "output_type": "execute_result"
    }
   ],
   "source": [
    "2**51 # sehen Commit nachricht"
   ]
  },
  {
   "cell_type": "markdown",
   "metadata": {
    "collapsed": true
   },
   "source": [
    "Welchen Wahrheitswert hat der Ausdruck `(1.3-1.0) == 0.3` und warum?"
   ]
  },
  {
   "cell_type": "code",
   "execution_count": 2,
   "metadata": {},
   "outputs": [
    {
     "data": {
      "text/plain": [
       "0.30000000000000004"
      ]
     },
     "execution_count": 2,
     "metadata": {},
     "output_type": "execute_result"
    }
   ],
   "source": [
    "1.3-1.0"
   ]
  },
  {
   "cell_type": "markdown",
   "metadata": {},
   "source": [
    "Der Wahrheitswert ist 'falsch', da float 64 Gleitkommazahlen nur eine gewisse Genauigkeit haben und deshalb das Ergebnis, dass ausgegeben wird von dem tatsächlichen Ergebnis (0.3) abweicht."
   ]
  },
  {
   "cell_type": "code",
   "execution_count": null,
   "metadata": {
    "collapsed": true
   },
   "outputs": [],
   "source": []
  }
 ],
 "metadata": {
  "anaconda-cloud": {},
  "kernelspec": {
   "display_name": "Python 3",
   "language": "python",
   "name": "python3"
  },
  "language_info": {
   "codemirror_mode": {
    "name": "ipython",
    "version": 3
   },
   "file_extension": ".py",
   "mimetype": "text/x-python",
   "name": "python",
   "nbconvert_exporter": "python",
   "pygments_lexer": "ipython3",
   "version": "3.6.2"
  }
 },
 "nbformat": 4,
 "nbformat_minor": 1
}
